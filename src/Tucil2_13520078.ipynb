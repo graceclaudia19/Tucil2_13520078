{
 "cells": [
  {
   "cell_type": "markdown",
   "metadata": {},
   "source": [
    "# Convex Hull Implementation\n",
    "## Grace Claudia - 13520078\n",
    "---"
   ]
  },
  {
   "cell_type": "markdown",
   "metadata": {},
   "source": [
    "### Import _library_ yang dibutuhkan"
   ]
  },
  {
   "cell_type": "code",
   "execution_count": 171,
   "metadata": {},
   "outputs": [],
   "source": [
    "#import library yg dibutuhkan \n",
    "import numpy as np\n",
    "import pandas as pd\n",
    "import matplotlib.pyplot as plt\n",
    "from sklearn import datasets"
   ]
  },
  {
   "cell_type": "markdown",
   "metadata": {},
   "source": [
    "### input _dataset_ dan kolom yang akan digunakan untuk visualisasi"
   ]
  },
  {
   "cell_type": "code",
   "execution_count": 172,
   "metadata": {},
   "outputs": [
    {
     "name": "stdout",
     "output_type": "stream",
     "text": [
      "Choose Dataset:\n",
      "1. Iris dataset (classification)\n",
      "2. Breast Cancer Wisconsin (regression)\n",
      "3. Wine Dataset (classification)\n",
      "\n"
     ]
    }
   ],
   "source": [
    "# title untuk plot datasset \n",
    "title = [\"Iris Classification Dataset\", \"Breast Cancer Wisconsin Classification Dataset\", \"Wine Classification Dataset\"]\n",
    "# memilih dataset yang akan digunakan\n",
    "print(\"Choose Dataset:\\n1. Iris dataset (classification)\\n2. Breast Cancer Wisconsin (regression)\\n3. Wine Dataset (classification)\\n\")\n",
    "num = int(input(\"Masukkan dataset yang akan diuji: \"))\n",
    "# pengecekan apakah dataset yang dipilih ada, jika tidak ada user akan diminta menginput kembali\n",
    "while num > 3 or num < 1:\n",
    "    print(\"Masukan dataset salah\")\n",
    "    num = int(input(\"Masukkan dataset yang akan diuji: \"))\n",
    "if num == 1:\n",
    "    data = datasets.load_iris()\n",
    "elif num == 2:\n",
    "    data = datasets.load_breast_cancer()\n",
    "elif num == 3:\n",
    "    data = datasets.load_wine()\n",
    "df = pd.DataFrame(data.data, columns=data.feature_names)\n",
    "df['Target'] = pd.DataFrame(data.target)\n"
   ]
  },
  {
   "cell_type": "markdown",
   "metadata": {},
   "source": [
    "### _Print_ seluruh nama kolom yang ada dan memilih 2 kolom yang akan di plot"
   ]
  },
  {
   "cell_type": "code",
   "execution_count": 173,
   "metadata": {},
   "outputs": [
    {
     "name": "stdout",
     "output_type": "stream",
     "text": [
      "Kolom Wine Classification Dataset\n",
      "1. alcohol\n",
      "2. malic_acid\n",
      "3. ash\n",
      "4. alcalinity_of_ash\n",
      "5. magnesium\n",
      "6. total_phenols\n",
      "7. flavanoids\n",
      "8. nonflavanoid_phenols\n",
      "9. proanthocyanins\n",
      "10. color_intensity\n",
      "11. hue\n",
      "12. od280/od315_of_diluted_wines\n",
      "13. proline\n"
     ]
    }
   ],
   "source": [
    "print(\"Kolom\", title[num-1])\n",
    "for i in range(len(df.columns)-1):\n",
    "    print(str(i+1)+\". \"+str(df.columns[i]))\n",
    "column1 = int(input(\"kolom 1: \"))\n",
    "column2 = int(input(\"kolom 2: \"))\n",
    "# apabila index kolom yang dipilih tidak ada, atau kolom1 dan kolom 2 sama, user akan diminta menginput kembali\n",
    "while column1 > len(df.columns)-1 or column1 < 1 or column2 > len(df.columns)-1 or column2 < 1 or column1 == column2:\n",
    "    print(\"Masukan kolom diluar index atau kolom 1 dan kolom 2 tidak boleh sama\")\n",
    "    column1 = int(input(\"kolom 1: \"))\n",
    "    column2 = int(input(\"kolom 2: \"))"
   ]
  },
  {
   "cell_type": "markdown",
   "metadata": {},
   "source": [
    "### Implementasi fungsi _Helper_ "
   ]
  },
  {
   "cell_type": "code",
   "execution_count": 174,
   "metadata": {},
   "outputs": [],
   "source": [
    "import math\n",
    "def leftMost(points): \n",
    "    # mencari titik dengan x terkecil\n",
    "    # input: array of points\n",
    "    # output: left most point\n",
    "    xMin = points[0][0]\n",
    "    leftMostIndex = 0\n",
    "    # mengiterasi points untuk mendapatkan x paling kecil\n",
    "    for i in range (1,len(points)):\n",
    "        if points[i][0] < xMin:\n",
    "            xMin = points[i][0]\n",
    "            leftMostIndex = i\n",
    "    return points[leftMostIndex]\n",
    "\n",
    "def rightMost(points): \n",
    "    # mencari titik dengan x terbesar\n",
    "    # input: array of points\n",
    "    # output: right most point\n",
    "    xMax = points[0][0]\n",
    "    rightMostIndex = 0\n",
    "    # mengiterasi points untuk mendapatkan x paling besar\n",
    "    for i in range (1,len(points)):\n",
    "        if points[i][0] > xMax:\n",
    "            xMax = points[i][0]\n",
    "            rightMostIndex = i\n",
    "    return points[rightMostIndex]\n",
    "\n",
    "def position(point, p1, p2):   \n",
    "    # menetukan apakah titik point berada diatas atau dibawah garis p1 dan p2\n",
    "    # input: titik yang diuji (point), titik pembentuk garis(p1 dan p2)\n",
    "    # output: jika hasil <= 0 maka letak titik diatas garis, jika hasil > 0 maka letak titik dibawah garis\n",
    "    x1 = p1[0]\n",
    "    y1 = p1[1]\n",
    "    x2 = p2[0]\n",
    "    y2 = p2[1]\n",
    "    xA = point[0]\n",
    "    yA = point[1]\n",
    "    # Vector 1\n",
    "    v1 = (x2-x1, y2-y1)  \n",
    "    # Vector 2 \n",
    "    v2 = (x2-xA, y2-yA)  \n",
    "    # Cross product\n",
    "    xp = v1[0]*v2[1] - v1[1]*v2[0] \n",
    "    return round(xp,10)\n",
    "\n",
    "def mostDistancePoint(points, p1, p2):\n",
    "    # mencari titik dengan jarak terjauh dari garis\n",
    "    # input: titik-titik kandidat (points), titik pembentuk garis(p1 dan p2)\n",
    "    # output: titik dengan jarak terjauh dari garis\n",
    "    if len(points)==0:\n",
    "        return None\n",
    "    else:\n",
    "        # mencari persamaan garis\n",
    "        x1 = p1[0]\n",
    "        y1 = p1[1]\n",
    "        x2 = p2[0]\n",
    "        y2 = p2[1]\n",
    "        # mencari koefisien yaitu a, b, c dari ax + by + c = 0 \n",
    "        a = y2 - y1\n",
    "        b = x1 - x2\n",
    "        c = x2*y1 - x1*y2\n",
    "        maxDistance = -999\n",
    "        maxDistanceIndex = 0\n",
    "        for i in range (len(points)):\n",
    "            #cari dengan rumus d = |ax + by + c|/sqrt(a^2 + b^2)\n",
    "            distanceNow = abs(a*points[i][0] + b*points[i][1] + c)/math.sqrt(a**2 + b**2)\n",
    "            if  distanceNow > maxDistance:\n",
    "                maxDistance = distanceNow\n",
    "                maxDistanceIndex = i\n",
    "        return points[maxDistanceIndex]\n"
   ]
  },
  {
   "cell_type": "markdown",
   "metadata": {},
   "source": [
    "### Implementasi algoritma convex hull dengan konsep _divide and conquer_"
   ]
  },
  {
   "cell_type": "code",
   "execution_count": 175,
   "metadata": {},
   "outputs": [],
   "source": [
    "def myConvexHull(points, a = None, b = None, direction = None):\n",
    "    # mencari convex hull dari titik-titik yang ada\n",
    "    # input: titik-titik kandidat (points), titik pembentuk garis(p1 dan p2), arah (direction)\n",
    "    # output: convex hull dari titik-titik kandidat\n",
    "    if len(points)==0:\n",
    "        #apabila titik kandidat kosong, maka return kosong\n",
    "        return []\n",
    "    if direction == None:\n",
    "        # apabila arah tidak ditentukan, maka arah rekursif akan terbagi menjadi arah atas dan bawah \n",
    "        up = []\n",
    "        down = []\n",
    "        # a merupakan titik paling kiri, sedangkah b merupakan titik paling kanan\n",
    "        a = leftMost(points)\n",
    "        b = rightMost(points)\n",
    "        for i in range (len(points)):\n",
    "            # mengecek letak titik \n",
    "            if (points[i] != a and points[i] != b):\n",
    "                pos = position(points[i],a,b)\n",
    "                # apabila hasil pengecekann <= 0 maka letak titik merupakan di kiri/atas garis, sedangkan jika > 0 maka di kanan garis\n",
    "                if pos <= 0:\n",
    "                    up += [points[i]]\n",
    "                elif pos > 0:\n",
    "                    down += [points[i]]\n",
    "        # pengecekan masing-masin guntuk arah atas dan bawah secara rekursif\n",
    "        return [a] + myConvexHull(up, a, b ,1) + [b] + myConvexHull(down, a, b, -1)[::-1]\n",
    "    else:\n",
    "        # jika arah merupakan 1 pengecekan dilakukan ke atas, jika -1 pengecekan dilakukan ke bawah\n",
    "        if (direction == 1):\n",
    "            up = []\n",
    "\n",
    "            # mengecek posisi titik terhadap garis \n",
    "            for i in range (len(points)):\n",
    "                if (points[i] != a and points[i] != b):\n",
    "                    if position(points[i],a, b) <= 0:\n",
    "                        # menambahkan titik yang berada di atas garis ke array pengecekan\n",
    "                        up += [points[i]]\n",
    "\n",
    "            # mencari titik terjauh dari garis yang melewati a dan b\n",
    "            furthestPoint = mostDistancePoint(up, a, b)\n",
    "\n",
    "            # pengecekan dilanjutkan ke atas\n",
    "            return [a] + myConvexHull(up, a, furthestPoint, 1) +  myConvexHull(up, furthestPoint, b, 1) + [b] \n",
    "            \n",
    "        elif (direction == -1):\n",
    "            down = []\n",
    "\n",
    "            # mengecek posisi titik terhadap garis \n",
    "\n",
    "            for i in range (len(points)):\n",
    "                # mengecek determinan\n",
    "                if (points[i] != a and points[i] != b):\n",
    "                    if position(points[i], a, b) > 0:\n",
    "                        # menambahkan titik yang berada di bawah garis ke array pengecekan\n",
    "                        down += [points[i]]\n",
    "\n",
    "            # mencari titik terjauh dari garis yang melewati a dan b\n",
    "            furthestPoint = mostDistancePoint(down,a, b)\n",
    "            \n",
    "            # pengecekan dilanjutkan ke bawah\n",
    "            return [a] + myConvexHull(down, a, furthestPoint, -1) +  myConvexHull(down, furthestPoint, b, -1) + [b] \n"
   ]
  },
  {
   "cell_type": "markdown",
   "metadata": {},
   "source": [
    "### Program visualisasi utama"
   ]
  },
  {
   "cell_type": "code",
   "execution_count": 176,
   "metadata": {},
   "outputs": [
    {
     "data": {
      "image/png": "[encoded data removed]",
      "text/plain": [
       "<Figure size 720x432 with 1 Axes>"
      ]
     },
     "metadata": {
      "needs_background": "light"
     },
     "output_type": "display_data"
    }
   ],
   "source": [
    "plt.figure(figsize = (10, 6))\n",
    "colors = ['blue','red','green','yellow','orange','black','brown','purple','pink','gray','cyan']\n",
    "plt.title(\"Convex Hull of\",title[num-1])\n",
    "plt.xlabel(data.feature_names[column1-1])\n",
    "plt.ylabel(data.feature_names[column2-1])\n",
    "\n",
    "for j in range(len(data.target_names)):\n",
    "    bucket = df[df['Target'] == j]\n",
    "    buckets = bucket.iloc[:,[column1-1,column2-1]].values\n",
    "    # changing from numpy array to list of points\n",
    "    result = tuple(map(tuple, buckets))\n",
    "    # menggunakan fungsi myConvexHull\n",
    "    hull = myConvexHull(result)\n",
    "    # plotting convex hull\n",
    "    plt.scatter([p[0] for p in buckets], [p[1] for p in buckets], label=data.target_names[j], color=colors[j])\n",
    "    plt.legend()\n",
    "    for i in range(len(hull)-1):\n",
    "        x = [hull[i][0], hull[i+1][0]]\n",
    "        y = [hull[i][1], hull[i+1][1]]\n",
    "        plt.plot(x, y, colors[j], linewidth=2, linestyle='-')"
   ]
  }
 ],
 "metadata": {
  "interpreter": {
   "hash": "a9d6e37fef9b16995874037583b1395a15fe6a179291a28586fd907597decb96"
  },
  "kernelspec": {
   "display_name": "Python 3.9.6 64-bit",
   "language": "python",
   "name": "python3"
  },
  "language_info": {
   "codemirror_mode": {
    "name": "ipython",
    "version": 3
   },
   "file_extension": ".py",
   "mimetype": "text/x-python",
   "name": "python",
   "nbconvert_exporter": "python",
   "pygments_lexer": "ipython3",
   "version": "3.9.6"
  },
  "orig_nbformat": 4
 },
 "nbformat": 4,
 "nbformat_minor": 2
}
